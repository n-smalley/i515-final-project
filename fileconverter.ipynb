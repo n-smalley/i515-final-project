{
 "cells": [
  {
   "cell_type": "code",
   "execution_count": null,
   "metadata": {},
   "outputs": [],
   "source": [
    "import pandas as pd"
   ]
  },
  {
   "cell_type": "code",
   "execution_count": null,
   "metadata": {},
   "outputs": [],
   "source": [
    "def json_to_csv(file):\n",
    "    import pandas as pd\n",
    "    json = pd.read_json(file)\n",
    "    return json.to_csv()"
   ]
  }
 ],
 "metadata": {
  "kernelspec": {
   "display_name": "venv",
   "language": "python",
   "name": "python3"
  },
  "language_info": {
   "name": "python",
   "version": "3.11.1"
  },
  "orig_nbformat": 4,
  "vscode": {
   "interpreter": {
    "hash": "50fbda91aae9f43a804f87af7f6e016636b2ee1dadf19920989618d3343bb28b"
   }
  }
 },
 "nbformat": 4,
 "nbformat_minor": 2
}
